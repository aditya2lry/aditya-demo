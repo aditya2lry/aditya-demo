{
  "nbformat": 4,
  "nbformat_minor": 0,
  "metadata": {
    "colab": {
      "provenance": [],
      "authorship_tag": "ABX9TyN2+iWudrOMQ8j+qPX7w6ba",
      "include_colab_link": true
    },
    "kernelspec": {
      "name": "python3",
      "display_name": "Python 3"
    },
    "language_info": {
      "name": "python"
    }
  },
  "cells": [
    {
      "cell_type": "markdown",
      "metadata": {
        "id": "view-in-github",
        "colab_type": "text"
      },
      "source": [
        "<a href=\"https://colab.research.google.com/github/aditya2lry/aditya-test/blob/main/mymap.ipynb\" target=\"_parent\"><img src=\"https://colab.research.google.com/assets/colab-badge.svg\" alt=\"Open In Colab\"/></a>"
      ]
    },
    {
      "cell_type": "code",
      "execution_count": null,
      "metadata": {
        "colab": {
          "base_uri": "https://localhost:8080/"
        },
        "id": "k_atNf0LizLu",
        "outputId": "08a60a27-51b5-4d25-f70f-c698b3ef6ae5"
      },
      "outputs": [
        {
          "output_type": "stream",
          "name": "stdout",
          "text": [
            "Enter your Number:+918271438277\n",
            "India\n",
            "Telewings\n",
            "[{'annotations': {'DMS': {'lat': \"22° 21' 4.01328'' N\", 'lng': \"78° 40' 3.87408'' E\"}, 'MGRS': '44QKK5981273550', 'Maidenhead': 'ML92ii04dg', 'Mercator': {'x': 8757253.07, 'y': 2537490.922}, 'OSM': {'edit_url': 'https://www.openstreetmap.org/edit?relation=304716#map=17/22.35111/78.66774', 'note_url': 'https://www.openstreetmap.org/note/new#map=17/22.35111/78.66774&layers=N', 'url': 'https://www.openstreetmap.org/?mlat=22.35111&mlon=78.66774#map=17/22.35111/78.66774'}, 'UN_M49': {'regions': {'ASIA': '142', 'IN': '356', 'SOUTHERN_ASIA': '034', 'WORLD': '001'}, 'statistical_groupings': ['LEDC']}, 'callingcode': 91, 'currency': {'alternate_symbols': ['Rs', '৳', '૱', '௹', 'रु', '₨'], 'decimal_mark': '.', 'html_entity': '&#x20b9;', 'iso_code': 'INR', 'iso_numeric': '356', 'name': 'Indian Rupee', 'smallest_denomination': 50, 'subunit': 'Paisa', 'subunit_to_unit': 100, 'symbol': '₹', 'symbol_first': 1, 'thousands_separator': ','}, 'flag': '🇮🇳', 'geohash': 'tezznhuhemb94y00nqrq', 'qibla': 276.07, 'roadinfo': {'drive_on': 'left', 'speed_in': 'km/h'}, 'sun': {'rise': {'apparent': 1666053840, 'astronomical': 1666135740, 'civil': 1666052460, 'nautical': 1666137300}, 'set': {'apparent': 1666095420, 'astronomical': 1666099920, 'civil': 1666096800, 'nautical': 1666098360}}, 'timezone': {'name': 'Asia/Kolkata', 'now_in_dst': 0, 'offset_sec': 19800, 'offset_string': '+0530', 'short_name': 'IST'}, 'what3words': {'words': 'dryness.herbalists.unceasingly'}, 'wikidata': 'Q668'}, 'bounds': {'northeast': {'lat': 35.6745457, 'lng': 97.395561}, 'southwest': {'lat': 6.5531169, 'lng': 67.9544415}}, 'components': {'ISO_3166-1_alpha-2': 'IN', 'ISO_3166-1_alpha-3': 'IND', '_category': 'place', '_type': 'country', 'continent': 'Asia', 'country': 'India', 'country_code': 'in'}, 'confidence': 1, 'formatted': 'India', 'geometry': {'lat': 22.3511148, 'lng': 78.6677428}}, {'annotations': {'DMS': {'lat': \"25° 28' 27.01776'' N\", 'lng': \"81° 50' 58.34292'' E\"}, 'MGRS': '44RNP8539617726', 'Maidenhead': 'NL05wl13wt', 'Mercator': {'x': 9111449.081, 'y': 2915727.225}, 'OSM': {'edit_url': 'https://www.openstreetmap.org/edit?node=6276061706#map=17/25.47417/81.84954', 'note_url': 'https://www.openstreetmap.org/note/new#map=17/25.47417/81.84954&layers=N', 'url': 'https://www.openstreetmap.org/?mlat=25.47417&mlon=81.84954#map=17/25.47417/81.84954'}, 'UN_M49': {'regions': {'ASIA': '142', 'IN': '356', 'SOUTHERN_ASIA': '034', 'WORLD': '001'}, 'statistical_groupings': ['LEDC']}, 'callingcode': 91, 'currency': {'alternate_symbols': ['Rs', '৳', '૱', '௹', 'रु', '₨'], 'decimal_mark': '.', 'html_entity': '&#x20b9;', 'iso_code': 'INR', 'iso_numeric': '356', 'name': 'Indian Rupee', 'smallest_denomination': 50, 'subunit': 'Paisa', 'subunit_to_unit': 100, 'symbol': '₹', 'symbol_first': 1, 'thousands_separator': ','}, 'flag': '🇮🇳', 'geohash': 'tud0yt3jb9b2dj0epeu0', 'qibla': 272.97, 'roadinfo': {'drive_on': 'left', 'road': 'Stanley Road', 'speed_in': 'km/h'}, 'sun': {'rise': {'apparent': 1666053180, 'astronomical': 1666135020, 'civil': 1666051800, 'nautical': 1666136580}, 'set': {'apparent': 1666094520, 'astronomical': 1666099080, 'civil': 1666095900, 'nautical': 1666097520}}, 'timezone': {'name': 'Asia/Kolkata', 'now_in_dst': 0, 'offset_sec': 19800, 'offset_string': '+0530', 'short_name': 'IST'}, 'what3words': {'words': 'toolbar.inflamed.thrusters'}, 'wikidata': 'Q7753141'}, 'bounds': {'northeast': {'lat': 25.4742216, 'lng': 81.8495897}, 'southwest': {'lat': 25.4741216, 'lng': 81.8494897}}, 'components': {'ISO_3166-1_alpha-2': 'IN', 'ISO_3166-1_alpha-3': 'IND', 'ISO_3166-2': ['IN-UP'], '_category': 'education', '_type': 'research_institute', 'city': 'Prayagraj', 'continent': 'Asia', 'country': 'India', 'country_code': 'in', 'county': 'Prayagraj', 'postcode': '211001', 'research_institute': 'National Academy of Sciences, India', 'road': 'Stanley Road', 'state': 'Uttar Pradesh', 'state_code': 'UP', 'state_district': 'Prayagraj', 'suburb': 'Old Cantonment'}, 'confidence': 9, 'formatted': 'National Academy of Sciences, India, Stanley Road, Old Cantonment, Prayagraj - 211001, Uttar Pradesh, India', 'geometry': {'lat': 25.4741716, 'lng': 81.8495397}}, {'annotations': {'DMS': {'lat': \"2° 10' 59.99880'' N\", 'lng': \"33° 40' 59.99880'' E\"}, 'MGRS': '36NWH7598441342', 'Maidenhead': 'KJ62ue24aa', 'Mercator': {'x': 3749611.478, 'y': 241479.696}, 'OSM': {'edit_url': 'https://www.openstreetmap.org/edit?node=2229108461#map=17/2.18333/33.68333', 'note_url': 'https://www.openstreetmap.org/note/new#map=17/2.18333/33.68333&layers=N', 'url': 'https://www.openstreetmap.org/?mlat=2.18333&mlon=33.68333#map=17/2.18333/33.68333'}, 'UN_M49': {'regions': {'AFRICA': '002', 'EASTERN_AFRICA': '014', 'SUB-SAHARAN_AFRICA': '202', 'UG': '800', 'WORLD': '001'}, 'statistical_groupings': ['LDC', 'LEDC', 'LLDC']}, 'callingcode': 256, 'currency': {'alternate_symbols': [], 'decimal_mark': '.', 'format': '%n %u', 'html_entity': '', 'iso_code': 'UGX', 'iso_numeric': '800', 'name': 'Ugandan Shilling', 'smallest_denomination': 1000, 'subunit': 'Cent', 'subunit_to_unit': 1, 'symbol': 'USh', 'symbol_first': 0, 'thousands_separator': ','}, 'flag': '🇺🇬', 'geohash': 's8ruqmrqydc2xkvqk0rg', 'qibla': 16.81, 'roadinfo': {'drive_on': 'left', 'speed_in': 'km/h'}, 'sun': {'rise': {'apparent': 1666063800, 'astronomical': 1666059600, 'civil': 1666062540, 'nautical': 1666061040}, 'set': {'apparent': 1666107060, 'astronomical': 1666111260, 'civil': 1666108320, 'nautical': 1666109820}}, 'timezone': {'name': 'Africa/Nairobi', 'now_in_dst': 0, 'offset_sec': 10800, 'offset_string': '+0300', 'short_name': 'EAT'}, 'what3words': {'words': 'clockwork.glitches.jubilantly'}}, 'bounds': {'northeast': {'lat': 2.203333, 'lng': 33.703333}, 'southwest': {'lat': 2.163333, 'lng': 33.663333}}, 'components': {'ISO_3166-1_alpha-2': 'UG', 'ISO_3166-1_alpha-3': 'UGA', 'ISO_3166-2': ['UG-E', 'UG-236'], '_category': 'place', '_type': 'village', 'continent': 'Africa', 'country': 'Uganda', 'country_code': 'ug', 'region': 'Eastern Region', 'state': 'Kapelebyong', 'village': 'India'}, 'confidence': 7, 'formatted': 'India, Kapelebyong, Uganda', 'geometry': {'lat': 2.183333, 'lng': 33.683333}}, {'annotations': {'DMS': {'lat': \"28° 24' 34.93584'' N\", 'lng': \"77° 24' 12.06648'' E\"}, 'MGRS': '43RGM3544144939', 'Maidenhead': 'ML88qj88jh', 'Mercator': {'x': 8616501.705, 'y': 3280402.352}, 'OSM': {'edit_url': 'https://www.openstreetmap.org/edit?way=210057206#map=17/28.40970/77.40335', 'note_url': 'https://www.openstreetmap.org/note/new#map=17/28.40970/77.40335&layers=N', 'url': 'https://www.openstreetmap.org/?mlat=28.40970&mlon=77.40335#map=17/28.40970/77.40335'}, 'UN_M49': {'regions': {'ASIA': '142', 'IN': '356', 'SOUTHERN_ASIA': '034', 'WORLD': '001'}, 'statistical_groupings': ['LEDC']}, 'callingcode': 91, 'currency': {'alternate_symbols': ['Rs', '৳', '૱', '௹', 'रु', '₨'], 'decimal_mark': '.', 'html_entity': '&#x20b9;', 'iso_code': 'INR', 'iso_numeric': '356', 'name': 'Indian Rupee', 'smallest_denomination': 50, 'subunit': 'Paisa', 'subunit_to_unit': 100, 'symbol': '₹', 'symbol_first': 1, 'thousands_separator': ','}, 'flag': '🇮🇳', 'geohash': 'ttp197g6sbdrcsv20yzj', 'qibla': 267, 'roadinfo': {'drive_on': 'left', 'road': 'maxar', 'speed_in': 'km/h'}, 'sun': {'rise': {'apparent': 1666054380, 'astronomical': 1666136100, 'civil': 1666053000, 'nautical': 1666051320}, 'set': {'apparent': 1666095420, 'astronomical': 1666100160, 'civil': 1666096860, 'nautical': 1666098480}}, 'timezone': {'name': 'Asia/Kolkata', 'now_in_dst': 0, 'offset_sec': 19800, 'offset_string': '+0530', 'short_name': 'IST'}, 'what3words': {'words': 'feels.drops.remaining'}, 'wikidata': 'Q6553790'}, 'bounds': {'northeast': {'lat': 28.4115262, 'lng': 77.4070174}, 'southwest': {'lat': 28.4079921, 'lng': 77.4020934}}, 'components': {'ISO_3166-1_alpha-2': 'IN', 'ISO_3166-1_alpha-3': 'IND', 'ISO_3166-2': ['IN-HR'], '_category': 'education', '_type': 'university', 'city': 'Faridabad', 'continent': 'Asia', 'country': 'India', 'country_code': 'in', 'county': 'Faridabad', 'house_number': 'Nachauli', 'postcode': '121002', 'road': 'maxar', 'state': 'Haryana', 'state_code': 'HR', 'state_district': 'Faridabad', 'university': \"Lingaya's University, Faridabad\"}, 'confidence': 9, 'formatted': \"Lingaya's University, Faridabad, Nachauli, maxar, Faridabad, Faridabad - 121002, Haryana, India\", 'geometry': {'lat': 28.4097044, 'lng': 77.4033518}}, {'annotations': {'DMS': {'lat': \"32° 31' 30.49500'' N\", 'lng': \"96° 36' 57.96972'' W\"}, 'FIPS': {'county': '48139', 'state': '48'}, 'MGRS': '14SQB2390601151', 'Maidenhead': 'EM12qm66ba', 'Mercator': {'x': -10755255.355, 'y': 3809470.141}, 'OSM': {'edit_url': 'https://www.openstreetmap.org/edit?node=151786687#map=17/32.52514/-96.61610', 'note_url': 'https://www.openstreetmap.org/note/new#map=17/32.52514/-96.61610&layers=N', 'url': 'https://www.openstreetmap.org/?mlat=32.52514&mlon=-96.61610#map=17/32.52514/-96.61610'}, 'UN_M49': {'regions': {'AMERICAS': '019', 'NORTHERN_AMERICA': '021', 'US': '840', 'WORLD': '001'}, 'statistical_groupings': ['MEDC']}, 'callingcode': 1, 'currency': {'alternate_symbols': ['US$'], 'decimal_mark': '.', 'disambiguate_symbol': 'US$', 'html_entity': '$', 'iso_code': 'USD', 'iso_numeric': '840', 'name': 'United States Dollar', 'smallest_denomination': 1, 'subunit': 'Cent', 'subunit_to_unit': 100, 'symbol': '$', 'symbol_first': 1, 'thousands_separator': ','}, 'flag': '🇺🇸', 'geohash': '9vg313n29th686ttgm48', 'qibla': 43.73, 'roadinfo': {'drive_on': 'right', 'speed_in': 'mph'}, 'sun': {'rise': {'apparent': 1666096440, 'astronomical': 1666091520, 'civil': 1666094940, 'nautical': 1666093200}, 'set': {'apparent': 1666136940, 'astronomical': 1666055460, 'civil': 1666052040, 'nautical': 1666053720}}, 'timezone': {'name': 'America/Chicago', 'now_in_dst': 1, 'offset_sec': -18000, 'offset_string': '-0500', 'short_name': 'CDT'}, 'what3words': {'words': 'eliminates.hustle.mobiles'}}, 'bounds': {'northeast': {'lat': 32.5451375, 'lng': -96.5961027}, 'southwest': {'lat': 32.5051375, 'lng': -96.6361027}}, 'components': {'ISO_3166-1_alpha-2': 'US', 'ISO_3166-1_alpha-3': 'USA', 'ISO_3166-2': ['US-TX'], '_category': 'place', '_type': 'hamlet', 'continent': 'North America', 'country': 'United States', 'country_code': 'us', 'county': 'Ellis County', 'hamlet': 'India', 'postcode': '76125', 'state': 'Texas', 'state_code': 'TX'}, 'confidence': 7, 'formatted': 'India, Ellis County, TX 76125, United States of America', 'geometry': {'lat': 32.5251375, 'lng': -96.6161027}}, {'annotations': {'DMS': {'lat': \"40° 22' 35.25564'' N\", 'lng': \"79° 7' 10.11252'' W\"}, 'FIPS': {'county': '42063', 'state': '42'}, 'MGRS': '17TPE5964071239', 'Maidenhead': 'FN00kj50pi', 'Mercator': {'x': -8807539.747, 'y': 4893114.369}, 'OSM': {'edit_url': 'https://www.openstreetmap.org/edit?node=158339155#map=17/40.37646/-79.11948', 'note_url': 'https://www.openstreetmap.org/note/new#map=17/40.37646/-79.11948&layers=N', 'url': 'https://www.openstreetmap.org/?mlat=40.37646&mlon=-79.11948#map=17/40.37646/-79.11948'}, 'UN_M49': {'regions': {'AMERICAS': '019', 'NORTHERN_AMERICA': '021', 'US': '840', 'WORLD': '001'}, 'statistical_groupings': ['MEDC']}, 'callingcode': 1, 'currency': {'alternate_symbols': ['US$'], 'decimal_mark': '.', 'disambiguate_symbol': 'US$', 'html_entity': '$', 'iso_code': 'USD', 'iso_numeric': '840', 'name': 'United States Dollar', 'smallest_denomination': 1, 'subunit': 'Cent', 'subunit_to_unit': 100, 'symbol': '$', 'symbol_first': 1, 'thousands_separator': ','}, 'flag': '🇺🇸', 'geohash': 'dpptxw6cytduyruy0xkg', 'qibla': 55.01, 'roadinfo': {'drive_on': 'right', 'speed_in': 'mph'}, 'sun': {'rise': {'apparent': 1666092720, 'astronomical': 1666087260, 'civil': 1666091040, 'nautical': 1666089180}, 'set': {'apparent': 1666132260, 'astronomical': 1666051260, 'civil': 1666133880, 'nautical': 1666135800}}, 'timezone': {'name': 'America/New_York', 'now_in_dst': 1, 'offset_sec': -14400, 'offset_string': '-0400', 'short_name': 'EDT'}, 'what3words': {'words': 'densely.author.decays'}}, 'bounds': {'northeast': {'lat': 40.3964599, 'lng': -79.0994757}, 'southwest': {'lat': 40.3564599, 'lng': -79.1394757}}, 'components': {'ISO_3166-1_alpha-2': 'US', 'ISO_3166-1_alpha-3': 'USA', 'ISO_3166-2': ['US-PA'], '_category': 'place', '_type': 'hamlet', 'city': 'West Wheatfield Township', 'continent': 'North America', 'country': 'United States', 'country_code': 'us', 'county': 'Indiana County', 'hamlet': 'India', 'postcode': '15949', 'state': 'Pennsylvania', 'state_code': 'PA'}, 'confidence': 7, 'formatted': 'India, West Wheatfield Township, PA 15949, United States of America', 'geometry': {'lat': 40.3764599, 'lng': -79.1194757}}, {'annotations': {'DMS': {'lat': \"36° 19' 57.20448'' N\", 'lng': \"88° 15' 29.14884'' W\"}, 'FIPS': {'county': '47079', 'state': '47'}, 'MGRS': '16SCF8708521569', 'Maidenhead': 'EM56uh99at', 'Mercator': {'x': -9824846.405, 'y': 4321160.712}, 'OSM': {'edit_url': 'https://www.openstreetmap.org/edit?node=153390321#map=17/36.33256/-88.25810', 'note_url': 'https://www.openstreetmap.org/note/new#map=17/36.33256/-88.25810&layers=N', 'url': 'https://www.openstreetmap.org/?mlat=36.33256&mlon=-88.25810#map=17/36.33256/-88.25810'}, 'UN_M49': {'regions': {'AMERICAS': '019', 'NORTHERN_AMERICA': '021', 'US': '840', 'WORLD': '001'}, 'statistical_groupings': ['MEDC']}, 'callingcode': 1, 'currency': {'alternate_symbols': ['US$'], 'decimal_mark': '.', 'disambiguate_symbol': 'US$', 'html_entity': '$', 'iso_code': 'USD', 'iso_numeric': '840', 'name': 'United States Dollar', 'smallest_denomination': 1, 'subunit': 'Cent', 'subunit_to_unit': 100, 'symbol': '$', 'symbol_first': 1, 'thousands_separator': ','}, 'flag': '🇺🇸', 'geohash': 'dn3nxwhkmr3p6um8xgbj', 'qibla': 49.11, 'roadinfo': {'drive_on': 'right', 'speed_in': 'mph'}, 'sun': {'rise': {'apparent': 1666094640, 'astronomical': 1666089480, 'civil': 1666093080, 'nautical': 1666091280}, 'set': {'apparent': 1666134720, 'astronomical': 1666053420, 'civil': 1666136280, 'nautical': 1666051620}}, 'timezone': {'name': 'America/Chicago', 'now_in_dst': 1, 'offset_sec': -18000, 'offset_string': '-0500', 'short_name': 'CDT'}, 'what3words': {'words': 'young.rebuilding.concurred'}}, 'bounds': {'northeast': {'lat': 36.3525568, 'lng': -88.2380969}, 'southwest': {'lat': 36.3125568, 'lng': -88.2780969}}, 'components': {'ISO_3166-1_alpha-2': 'US', 'ISO_3166-1_alpha-3': 'USA', 'ISO_3166-2': ['US-TN'], '_category': 'place', '_type': 'hamlet', 'continent': 'North America', 'country': 'United States', 'country_code': 'us', 'county': 'Henry County', 'hamlet': 'India', 'postcode': '38223', 'region': 'West Tennessee', 'state': 'Tennessee', 'state_code': 'TN'}, 'confidence': 7, 'formatted': 'India, Henry County, TN 38223, United States of America', 'geometry': {'lat': 36.3325568, 'lng': -88.2580969}}, {'annotations': {'DMS': {'lat': \"30° 49' 1.68168'' N\", 'lng': \"89° 6' 40.17420'' W\"}, 'FIPS': {'county': '28131', 'state': '28'}, 'MGRS': '16RBV9805011242', 'Maidenhead': 'EM50kt66pc', 'Mercator': {'x': -9919808.9, 'y': 3587136.359}, 'OSM': {'edit_url': 'https://www.openstreetmap.org/edit?node=153472877#map=17/30.81713/-89.11116', 'note_url': 'https://www.openstreetmap.org/note/new#map=17/30.81713/-89.11116&layers=N', 'url': 'https://www.openstreetmap.org/?mlat=30.81713&mlon=-89.11116#map=17/30.81713/-89.11116'}, 'UN_M49': {'regions': {'AMERICAS': '019', 'NORTHERN_AMERICA': '021', 'US': '840', 'WORLD': '001'}, 'statistical_groupings': ['MEDC']}, 'callingcode': 1, 'currency': {'alternate_symbols': ['US$'], 'decimal_mark': '.', 'disambiguate_symbol': 'US$', 'html_entity': '$', 'iso_code': 'USD', 'iso_numeric': '840', 'name': 'United States Dollar', 'smallest_denomination': 1, 'subunit': 'Cent', 'subunit_to_unit': 100, 'symbol': '$', 'symbol_first': 1, 'thousands_separator': ','}, 'flag': '🇺🇸', 'geohash': 'dj2xk4p4z6pe8ky0bdkn', 'qibla': 49.73, 'roadinfo': {'drive_on': 'right', 'speed_in': 'mph'}, 'sun': {'rise': {'apparent': 1666094520, 'astronomical': 1666089720, 'civil': 1666093080, 'nautical': 1666091400}, 'set': {'apparent': 1666135200, 'astronomical': 1666053660, 'civil': 1666136700, 'nautical': 1666051980}}, 'timezone': {'name': 'America/Chicago', 'now_in_dst': 1, 'offset_sec': -18000, 'offset_string': '-0500', 'short_name': 'CDT'}, 'what3words': {'words': 'cupboards.impolite.gorged'}}, 'bounds': {'northeast': {'lat': 30.8371338, 'lng': -89.0911595}, 'southwest': {'lat': 30.7971338, 'lng': -89.1311595}}, 'components': {'ISO_3166-1_alpha-2': 'US', 'ISO_3166-1_alpha-3': 'USA', 'ISO_3166-2': ['US-MS'], '_category': 'place', '_type': 'hamlet', 'continent': 'North America', 'country': 'United States', 'country_code': 'us', 'county': 'Stone County', 'hamlet': 'India', 'state': 'Mississippi', 'state_code': 'MS'}, 'confidence': 7, 'formatted': 'India, Stone County, Mississippi, United States of America', 'geometry': {'lat': 30.8171338, 'lng': -89.1111595}}, {'annotations': {'DMS': {'lat': \"25° 13' 52.03236'' N\", 'lng': \"55° 10' 46.79688'' E\"}, 'MGRS': '40RCN1663591781', 'Maidenhead': 'LL75of15nl', 'Mercator': {'x': 6142572.297, 'y': 2885951.173}, 'OSM': {'edit_url': 'https://www.openstreetmap.org/edit?way=170773643#map=17/25.23112/55.17967', 'note_url': 'https://www.openstreetmap.org/note/new#map=17/25.23112/55.17967&layers=N', 'url': 'https://www.openstreetmap.org/?mlat=25.23112&mlon=55.17967#map=17/25.23112/55.17967'}, 'UN_M49': {'regions': {'AE': '784', 'ASIA': '142', 'WESTERN_ASIA': '145', 'WORLD': '001'}, 'statistical_groupings': ['LEDC']}, 'callingcode': 971, 'currency': {'alternate_symbols': ['DH', 'Dhs'], 'decimal_mark': '.', 'format': '%n %u', 'html_entity': '', 'iso_code': 'AED', 'iso_numeric': '784', 'name': 'United Arab Emirates Dirham', 'smallest_denomination': 25, 'subunit': 'Fils', 'subunit_to_unit': 100, 'symbol': 'د.إ', 'symbol_first': 0, 'thousands_separator': ','}, 'flag': '🇦🇪', 'geohash': 'thrpx9htgmsvwy199nxe', 'qibla': 258.03, 'roadinfo': {'drive_on': 'right', 'speed_in': 'km/h'}, 'sun': {'rise': {'apparent': 1666059600, 'astronomical': 1666055040, 'civil': 1666058220, 'nautical': 1666056600}, 'set': {'apparent': 1666100940, 'astronomical': 1666105500, 'civil': 1666102320, 'nautical': 1666103880}}, 'timezone': {'name': 'Asia/Dubai', 'now_in_dst': 0, 'offset_sec': 14400, 'offset_string': '+0400', 'short_name': '+04'}, 'what3words': {'words': 'december.elms.stepladder'}}, 'bounds': {'northeast': {'lat': 25.2321518, 'lng': 55.1804578}, 'southwest': {'lat': 25.2301128, 'lng': 55.1787512}}, 'components': {'ISO_3166-1_alpha-2': 'AE', 'ISO_3166-1_alpha-3': 'ARE', 'ISO_3166-2': ['AE-DU'], '_category': 'road', '_type': 'road', 'continent': 'Asia', 'country': 'United Arab Emirates', 'country_code': 'ae', 'place': 'India', 'state': 'Dubai', 'state_code': 'DU'}, 'confidence': 9, 'formatted': 'India, Dubai, United Arab Emirates', 'geometry': {'lat': 25.2311201, 'lng': 55.1796658}}, {'annotations': {'DMS': {'lat': \"47° 2' 50.61588'' N\", 'lng': \"29° 23' 10.89816'' E\"}, 'MGRS': '35TPN8126013194', 'Maidenhead': 'KN47qb61ii', 'Mercator': {'x': 3271274.698, 'y': 5918524.684}, 'OSM': {'edit_url': 'https://www.openstreetmap.org/edit?way=299651261#map=17/47.04739/29.38636', 'note_url': 'https://www.openstreetmap.org/note/new#map=17/47.04739/29.38636&layers=N', 'url': 'https://www.openstreetmap.org/?mlat=47.04739&mlon=29.38636#map=17/47.04739/29.38636'}, 'UN_M49': {'regions': {'EASTERN_EUROPE': '151', 'EUROPE': '150', 'MD': '498', 'WORLD': '001'}, 'statistical_groupings': ['LLDC', 'MEDC']}, 'callingcode': 373, 'currency': {'alternate_symbols': ['lei'], 'decimal_mark': '.', 'format': '%n %u', 'html_entity': '', 'iso_code': 'MDL', 'iso_numeric': '498', 'name': 'Moldovan Leu', 'smallest_denomination': 1, 'subunit': 'Ban', 'subunit_to_unit': 100, 'symbol': 'L', 'symbol_first': 0, 'thousands_separator': ','}, 'flag': '🇲🇩', 'geohash': 'u8kgsswqzvf8u20pfss6', 'qibla': 158.17, 'roadinfo': {'drive_on': 'right', 'speed_in': 'km/h'}, 'sun': {'rise': {'apparent': 1666067100, 'astronomical': 1666061040, 'civil': 1666065240, 'nautical': 1666063140}, 'set': {'apparent': 1666105740, 'astronomical': 1666111800, 'civil': 1666107600, 'nautical': 1666109700}}, 'timezone': {'name': 'Europe/Chisinau', 'now_in_dst': 1, 'offset_sec': 10800, 'offset_string': '+0300', 'short_name': 'EEST'}, 'what3words': {'words': 'imparts.supercharged.shoplifted'}, 'wikidata': 'Q11157534'}, 'bounds': {'northeast': {'lat': 47.0507578, 'lng': 29.3905406}, 'southwest': {'lat': 47.0415127, 'lng': 29.3841147}}, 'components': {'ISO_3166-1_alpha-2': 'MD', 'ISO_3166-1_alpha-3': 'MDA', 'ISO_3166-2': ['MD-SN'], '_category': 'place', '_type': 'village', 'continent': 'Europe', 'country': 'Moldova', 'country_code': 'md', 'region': 'Administrative-Territorial Units from the Left Bank of the Dniester', 'state': 'Transnistria', 'state_district': 'Grigoriopol District', 'village': 'Indiya'}, 'confidence': 9, 'formatted': 'Indiya, Grigoriopol District, Moldova', 'geometry': {'lat': 47.0473933, 'lng': 29.3863606}}]\n",
            "22.3511148 78.6677428\n"
          ]
        }
      ],
      "source": [
        "import phonenumbers\n",
        "import opencage\n",
        "import requests\n",
        "import folium\n",
        "number=input(\"Enter your Number:\")\n",
        "from phonenumbers import geocoder\n",
        "pepnumber=phonenumbers.parse(number)\n",
        "location=geocoder.description_for_number(pepnumber,\"en\")\n",
        "print(location)\n",
        "from phonenumbers import carrier\n",
        "service_pro=phonenumbers.parse(number)\n",
        "print(carrier.name_for_number(service_pro,\"en\"))\n",
        "from opencage.geocoder import OpenCageGeocode\n",
        "key='2ee940c3963f461796edda4a0a213d90'\n",
        "geocoder=OpenCageGeocode(key)\n",
        "Quary=str(location)\n",
        "result=geocoder.geocode(Quary)\n",
        "print(result)\n",
        "lat=result[0]['geometry']['lat']\n",
        "lng=result[0]['geometry']['lng']\n",
        "print(lat,lng)\n",
        "myMap=folium.Map(location=[lat,lng],zoom_start=9)\n",
        "folium.Marker([lat,lng],popup=location).add_to(myMap)\n",
        "myMap.save(\"mylocation.html\")"
      ]
    },
    {
      "cell_type": "code",
      "source": [
        "pip install phonenumbers"
      ],
      "metadata": {
        "colab": {
          "base_uri": "https://localhost:8080/"
        },
        "id": "_u6MpRMtjBD3",
        "outputId": "d50ed2fb-1476-4f52-a6a0-ebf3037e147c"
      },
      "execution_count": null,
      "outputs": [
        {
          "output_type": "stream",
          "name": "stdout",
          "text": [
            "Looking in indexes: https://pypi.org/simple, https://us-python.pkg.dev/colab-wheels/public/simple/\n",
            "Collecting phonenumbers\n",
            "  Downloading phonenumbers-8.12.57-py2.py3-none-any.whl (2.6 MB)\n",
            "\u001b[K     |████████████████████████████████| 2.6 MB 5.4 MB/s \n",
            "\u001b[?25hInstalling collected packages: phonenumbers\n",
            "Successfully installed phonenumbers-8.12.57\n"
          ]
        }
      ]
    },
    {
      "cell_type": "code",
      "source": [
        "pip install opencage"
      ],
      "metadata": {
        "colab": {
          "base_uri": "https://localhost:8080/"
        },
        "id": "imPhI1pXjHvI",
        "outputId": "82c6b7b1-e3ca-4ea4-aaf3-f8f6423b307c"
      },
      "execution_count": null,
      "outputs": [
        {
          "output_type": "stream",
          "name": "stdout",
          "text": [
            "Looking in indexes: https://pypi.org/simple, https://us-python.pkg.dev/colab-wheels/public/simple/\n",
            "Collecting opencage\n",
            "  Downloading opencage-2.1.0-py3-none-any.whl (13 kB)\n",
            "Requirement already satisfied: Requests>=2.2.0 in /usr/local/lib/python3.7/dist-packages (from opencage) (2.23.0)\n",
            "Collecting pyopenssl>=0.15.1\n",
            "  Downloading pyOpenSSL-22.1.0-py3-none-any.whl (57 kB)\n",
            "\u001b[K     |████████████████████████████████| 57 kB 2.5 MB/s \n",
            "\u001b[?25hCollecting backoff>=1.10.0\n",
            "  Downloading backoff-2.2.1-py3-none-any.whl (15 kB)\n",
            "Collecting cryptography<39,>=38.0.0\n",
            "  Downloading cryptography-38.0.1-cp36-abi3-manylinux_2_24_x86_64.whl (4.0 MB)\n",
            "\u001b[K     |████████████████████████████████| 4.0 MB 11.9 MB/s \n",
            "\u001b[?25hRequirement already satisfied: cffi>=1.12 in /usr/local/lib/python3.7/dist-packages (from cryptography<39,>=38.0.0->pyopenssl>=0.15.1->opencage) (1.15.1)\n",
            "Requirement already satisfied: pycparser in /usr/local/lib/python3.7/dist-packages (from cffi>=1.12->cryptography<39,>=38.0.0->pyopenssl>=0.15.1->opencage) (2.21)\n",
            "Requirement already satisfied: chardet<4,>=3.0.2 in /usr/local/lib/python3.7/dist-packages (from Requests>=2.2.0->opencage) (3.0.4)\n",
            "Requirement already satisfied: idna<3,>=2.5 in /usr/local/lib/python3.7/dist-packages (from Requests>=2.2.0->opencage) (2.10)\n",
            "Requirement already satisfied: urllib3!=1.25.0,!=1.25.1,<1.26,>=1.21.1 in /usr/local/lib/python3.7/dist-packages (from Requests>=2.2.0->opencage) (1.24.3)\n",
            "Requirement already satisfied: certifi>=2017.4.17 in /usr/local/lib/python3.7/dist-packages (from Requests>=2.2.0->opencage) (2022.9.24)\n",
            "Installing collected packages: cryptography, pyopenssl, backoff, opencage\n",
            "Successfully installed backoff-2.2.1 cryptography-38.0.1 opencage-2.1.0 pyopenssl-22.1.0\n"
          ]
        }
      ]
    },
    {
      "cell_type": "code",
      "source": [
        "pip install folium"
      ],
      "metadata": {
        "colab": {
          "base_uri": "https://localhost:8080/"
        },
        "id": "kjinfH_VjPlS",
        "outputId": "d5bdb1e1-a7f0-48d4-9457-2a4cb5ceb596"
      },
      "execution_count": null,
      "outputs": [
        {
          "output_type": "stream",
          "name": "stdout",
          "text": [
            "Looking in indexes: https://pypi.org/simple, https://us-python.pkg.dev/colab-wheels/public/simple/\n",
            "Requirement already satisfied: folium in /usr/local/lib/python3.7/dist-packages (0.12.1.post1)\n",
            "Requirement already satisfied: jinja2>=2.9 in /usr/local/lib/python3.7/dist-packages (from folium) (2.11.3)\n",
            "Requirement already satisfied: requests in /usr/local/lib/python3.7/dist-packages (from folium) (2.23.0)\n",
            "Requirement already satisfied: numpy in /usr/local/lib/python3.7/dist-packages (from folium) (1.21.6)\n",
            "Requirement already satisfied: branca>=0.3.0 in /usr/local/lib/python3.7/dist-packages (from folium) (0.5.0)\n",
            "Requirement already satisfied: MarkupSafe>=0.23 in /usr/local/lib/python3.7/dist-packages (from jinja2>=2.9->folium) (2.0.1)\n",
            "Requirement already satisfied: certifi>=2017.4.17 in /usr/local/lib/python3.7/dist-packages (from requests->folium) (2022.9.24)\n",
            "Requirement already satisfied: idna<3,>=2.5 in /usr/local/lib/python3.7/dist-packages (from requests->folium) (2.10)\n",
            "Requirement already satisfied: chardet<4,>=3.0.2 in /usr/local/lib/python3.7/dist-packages (from requests->folium) (3.0.4)\n",
            "Requirement already satisfied: urllib3!=1.25.0,!=1.25.1,<1.26,>=1.21.1 in /usr/local/lib/python3.7/dist-packages (from requests->folium) (1.24.3)\n"
          ]
        }
      ]
    },
    {
      "cell_type": "markdown",
      "source": [
        "pip install requests"
      ],
      "metadata": {
        "id": "Cb2DjQ262Ixe"
      }
    },
    {
      "cell_type": "code",
      "source": [
        "pip install requests"
      ],
      "metadata": {
        "colab": {
          "base_uri": "https://localhost:8080/"
        },
        "id": "9Gs8obDC2VvX",
        "outputId": "67d3778f-e5b2-41e9-d1e5-3a1162ba8fc5"
      },
      "execution_count": null,
      "outputs": [
        {
          "output_type": "stream",
          "name": "stdout",
          "text": [
            "Looking in indexes: https://pypi.org/simple, https://us-python.pkg.dev/colab-wheels/public/simple/\n",
            "Requirement already satisfied: requests in /usr/local/lib/python3.7/dist-packages (2.23.0)\n",
            "Requirement already satisfied: certifi>=2017.4.17 in /usr/local/lib/python3.7/dist-packages (from requests) (2022.9.24)\n",
            "Requirement already satisfied: idna<3,>=2.5 in /usr/local/lib/python3.7/dist-packages (from requests) (2.10)\n",
            "Requirement already satisfied: chardet<4,>=3.0.2 in /usr/local/lib/python3.7/dist-packages (from requests) (3.0.4)\n",
            "Requirement already satisfied: urllib3!=1.25.0,!=1.25.1,<1.26,>=1.21.1 in /usr/local/lib/python3.7/dist-packages (from requests) (1.24.3)\n"
          ]
        }
      ]
    }
  ]
}